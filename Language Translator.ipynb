{
 "cells": [
  {
   "cell_type": "code",
   "execution_count": 1,
   "id": "cb9f5792-feb5-43b6-afb2-e3527a8dcad4",
   "metadata": {},
   "outputs": [],
   "source": [
    "from tkinter import *\n",
    "from tkinter import ttk\n",
    "from googletrans import Translator,LANGUAGES"
   ]
  },
  {
   "cell_type": "code",
   "execution_count": 2,
   "id": "3ed36f34-b09b-481c-80b0-d491257b68bd",
   "metadata": {},
   "outputs": [],
   "source": [
    "root = Tk()\n",
    "root.geometry('900x350')\n",
    "root.resizable(0,0)\n",
    "root.iconbitmap('C:\\\\Users\\\\HP\\\\Downloads\\\\199262_.ico_icon.ico')\n",
    "root['bg'] = 'DodgerBlue3'\n",
    "\n",
    "root.title('Language Translator')\n",
    "Label(root,text = \"Language Translator\",font=\"arial 20 bold\").pack()"
   ]
  },
  {
   "cell_type": "code",
   "execution_count": 3,
   "id": "47bd75ad-2f8c-4dc2-bf52-683654ceb7c1",
   "metadata": {},
   "outputs": [],
   "source": [
    "Label(root,text=\"Enter Text\",font='arial 13 bold', bg = 'white smoke').place(x=50,y=90)\n"
   ]
  },
  {
   "cell_type": "code",
   "execution_count": 4,
   "id": "77982406-48c1-4f24-9c59-50ecd0c60694",
   "metadata": {},
   "outputs": [
    {
     "data": {
      "text/plain": [
       "''"
      ]
     },
     "execution_count": 4,
     "metadata": {},
     "output_type": "execute_result"
    }
   ],
   "source": [
    "Input_text = Entry(root,width=60)\n",
    "Input_text.place(x=50,y=130)\n",
    "Input_text.get()"
   ]
  },
  {
   "cell_type": "code",
   "execution_count": 5,
   "id": "577ddc59-2209-40f6-bb18-dee0718f468e",
   "metadata": {},
   "outputs": [],
   "source": [
    "Label(root,text = \"Output\",font = 'arial 13 bold', bg = 'white smoke').place(x=500,y=90)\n",
    "output_text = Text(root,font = 'arial 10',height = 7,wrap = WORD, padx = 5,pady = 5, width=50)\n",
    "output_text.place(x=500,y=130)\n",
    "\n",
    "language = list(LANGUAGES.values())\n",
    "dst_lang = ttk.Combobox(root,values = language,width = 22)\n",
    "dst_lang.place(x = 150,y=170)\n",
    "dst_lang.set('Choose Language')"
   ]
  },
  {
   "cell_type": "markdown",
   "id": "ad930486-eeb3-4190-89b1-e22b4f206f1a",
   "metadata": {},
   "source": [
    "Function for Translate"
   ]
  },
  {
   "cell_type": "code",
   "execution_count": 6,
   "id": "3720fbd3-2536-4121-a049-711ee422d2e6",
   "metadata": {},
   "outputs": [],
   "source": [
    "def translate():\n",
    "    translator = Translator()\n",
    "    translation = translator.translate(text=Input_text.get(),dest = dst_lang.get())\n",
    "    output_text.delete(1.0,END)\n",
    "    output_text.insert(END,translation.text)"
   ]
  },
  {
   "cell_type": "code",
   "execution_count": 7,
   "id": "1560ba0f-ee26-40aa-b46d-a967583cd87a",
   "metadata": {},
   "outputs": [],
   "source": [
    "Trans_btn = Button(root,text='Translate',font='areal 10 bold',pady = 5,command = translate,bg='orange',activebackground='green')\n",
    "Trans_btn.place(x=185,y=200)\n",
    "\n",
    "root.mainloop()"
   ]
  }
 ],
 "metadata": {
  "kernelspec": {
   "display_name": "Python 3 (ipykernel)",
   "language": "python",
   "name": "python3"
  },
  "language_info": {
   "codemirror_mode": {
    "name": "ipython",
    "version": 3
   },
   "file_extension": ".py",
   "mimetype": "text/x-python",
   "name": "python",
   "nbconvert_exporter": "python",
   "pygments_lexer": "ipython3",
   "version": "3.12.2"
  }
 },
 "nbformat": 4,
 "nbformat_minor": 5
}
